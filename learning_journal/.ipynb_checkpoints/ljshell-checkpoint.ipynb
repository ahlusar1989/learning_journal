{
 "cells": [
  {
   "cell_type": "code",
   "execution_count": 2,
   "metadata": {
    "collapsed": false
   },
   "outputs": [],
   "source": [
    "from pyramid.paster import get_appsettings, setup_logging\n",
    "from sqlalchemy import engine_from_config\n",
    "from sqlalchemy.orm import sessionmaker\n",
    "\n",
    "config_uri = 'development.ini'\n",
    "setup_logging(config_uri)\n",
    "settings = get_appsettings(config_uri)\n",
    "engine = engine_from_config(settings, 'sqlalchemy.')\n",
    "Session = sessionmaker(bind=engine)"
   ]
  },
  {
   "cell_type": "code",
   "execution_count": 7,
   "metadata": {
    "collapsed": true
   },
   "outputs": [],
   "source": [
    "from ljshell import Session"
   ]
  },
  {
   "cell_type": "code",
   "execution_count": 8,
   "metadata": {
    "collapsed": true
   },
   "outputs": [],
   "source": [
    "from learning_journal.models import Entry"
   ]
  },
  {
   "cell_type": "code",
   "execution_count": 9,
   "metadata": {
    "collapsed": true
   },
   "outputs": [],
   "source": [
    "session = Session()"
   ]
  },
  {
   "cell_type": "code",
   "execution_count": 10,
   "metadata": {
    "collapsed": false
   },
   "outputs": [
    {
     "name": "stderr",
     "output_type": "stream",
     "text": [
      "2015-04-22 18:24:38,048 INFO  [sqlalchemy.engine.base.Engine][MainThread] SELECT CAST('test plain returns' AS VARCHAR(60)) AS anon_1\n",
      "2015-04-22 18:24:38,049 INFO  [sqlalchemy.engine.base.Engine][MainThread] ()\n",
      "2015-04-22 18:24:38,051 INFO  [sqlalchemy.engine.base.Engine][MainThread] SELECT CAST('test unicode returns' AS VARCHAR(60)) AS anon_1\n",
      "2015-04-22 18:24:38,052 INFO  [sqlalchemy.engine.base.Engine][MainThread] ()\n",
      "2015-04-22 18:24:38,055 INFO  [sqlalchemy.engine.base.Engine][MainThread] BEGIN (implicit)\n",
      "2015-04-22 18:24:38,058 INFO  [sqlalchemy.engine.base.Engine][MainThread] SELECT entries.id AS entries_id, entries.title AS entries_title, entries.body AS entries_body, entries.created AS entries_created, entries.edited AS entries_edited \n",
      "FROM entries\n",
      "2015-04-22 18:24:38,058 INFO  [sqlalchemy.engine.base.Engine][MainThread] ()\n"
     ]
    },
    {
     "data": {
      "text/plain": [
       "[<learning_journal.models.Entry at 0x105c10e80>]"
      ]
     },
     "execution_count": 10,
     "metadata": {},
     "output_type": "execute_result"
    }
   ],
   "source": [
    "session.query(Entry).all()"
   ]
  },
  {
   "cell_type": "code",
   "execution_count": 12,
   "metadata": {
    "collapsed": false
   },
   "outputs": [],
   "source": [
    "new = []\n",
    "for title, body in [('bob', '34'), ('tom', '13')]:\n",
    "    new.append(Entry(title=title, body=body))"
   ]
  },
  {
   "cell_type": "code",
   "execution_count": 13,
   "metadata": {
    "collapsed": true
   },
   "outputs": [],
   "source": [
    "session.add_all(new)"
   ]
  },
  {
   "cell_type": "code",
   "execution_count": 14,
   "metadata": {
    "collapsed": false
   },
   "outputs": [
    {
     "data": {
      "text/plain": [
       "IdentitySet([<learning_journal.models.Entry object at 0x105c3ddd8>, <learning_journal.models.Entry object at 0x105c3dd68>])"
      ]
     },
     "execution_count": 14,
     "metadata": {},
     "output_type": "execute_result"
    }
   ],
   "source": [
    "session.new"
   ]
  },
  {
   "cell_type": "code",
   "execution_count": 15,
   "metadata": {
    "collapsed": false
   },
   "outputs": [
    {
     "name": "stderr",
     "output_type": "stream",
     "text": [
      "2015-04-22 18:52:32,697 INFO  [sqlalchemy.engine.base.Engine][MainThread] INSERT INTO entries (title, body, created, edited) VALUES (?, ?, ?, ?)\n",
      "2015-04-22 18:52:32,699 INFO  [sqlalchemy.engine.base.Engine][MainThread] ('bob', '34', '2015-04-22 22:52:32.697048', '2015-04-22 22:52:32.697109')\n",
      "2015-04-22 18:52:32,768 INFO  [sqlalchemy.engine.base.Engine][MainThread] INSERT INTO entries (title, body, created, edited) VALUES (?, ?, ?, ?)\n",
      "2015-04-22 18:52:32,769 INFO  [sqlalchemy.engine.base.Engine][MainThread] ('tom', '13', '2015-04-22 22:52:32.768279', '2015-04-22 22:52:32.768292')\n",
      "2015-04-22 18:52:32,770 INFO  [sqlalchemy.engine.base.Engine][MainThread] COMMIT\n"
     ]
    }
   ],
   "source": [
    "session.commit()"
   ]
  },
  {
   "cell_type": "code",
   "execution_count": null,
   "metadata": {
    "collapsed": true
   },
   "outputs": [],
   "source": []
  }
 ],
 "metadata": {
  "kernelspec": {
   "display_name": "Python 3",
   "language": "python",
   "name": "python3"
  },
  "language_info": {
   "codemirror_mode": {
    "name": "ipython",
    "version": 3
   },
   "file_extension": ".py",
   "mimetype": "text/x-python",
   "name": "python",
   "nbconvert_exporter": "python",
   "pygments_lexer": "ipython3",
   "version": "3.4.3"
  }
 },
 "nbformat": 4,
 "nbformat_minor": 0
}
